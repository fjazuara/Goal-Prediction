{
 "cells": [
  {
   "cell_type": "markdown",
   "id": "77a0df11",
   "metadata": {},
   "source": [
    "# Evaluación de Modelos."
   ]
  },
  {
   "cell_type": "markdown",
   "id": "56d36804",
   "metadata": {},
   "source": [
    "#### En esta notebook se realiza una evaluación de los 5 modelos seleccionados (Logistic Regression, KNN, Random Forest, Gaussian Naive Bayes, XGBoost), evaluando su desempeño con la métrica Recall."
   ]
  },
  {
   "cell_type": "code",
   "execution_count": 10,
   "id": "af3345cb",
   "metadata": {},
   "outputs": [],
   "source": [
    "\n",
    "# Se importa el archivo utils.py con todo los ejecutables necesarios\n",
    "\n",
    "from utils import *\n"
   ]
  },
  {
   "cell_type": "code",
   "execution_count": 3,
   "id": "2f18515e",
   "metadata": {},
   "outputs": [
    {
     "data": {
      "text/html": [
       "<div>\n",
       "<style scoped>\n",
       "    .dataframe tbody tr th:only-of-type {\n",
       "        vertical-align: middle;\n",
       "    }\n",
       "\n",
       "    .dataframe tbody tr th {\n",
       "        vertical-align: top;\n",
       "    }\n",
       "\n",
       "    .dataframe thead th {\n",
       "        text-align: right;\n",
       "    }\n",
       "</style>\n",
       "<table border=\"1\" class=\"dataframe\">\n",
       "  <thead>\n",
       "    <tr style=\"text-align: right;\">\n",
       "      <th></th>\n",
       "      <th>Unnamed: 0</th>\n",
       "      <th>time</th>\n",
       "      <th>event_type</th>\n",
       "      <th>side</th>\n",
       "      <th>shot_place</th>\n",
       "      <th>shot_outcome</th>\n",
       "      <th>is_goal</th>\n",
       "      <th>location</th>\n",
       "      <th>bodypart</th>\n",
       "      <th>assist_method</th>\n",
       "      <th>situation</th>\n",
       "    </tr>\n",
       "  </thead>\n",
       "  <tbody>\n",
       "    <tr>\n",
       "      <th>0</th>\n",
       "      <td>0</td>\n",
       "      <td>2</td>\n",
       "      <td>1</td>\n",
       "      <td>2</td>\n",
       "      <td>6.0</td>\n",
       "      <td>2.0</td>\n",
       "      <td>0</td>\n",
       "      <td>9.0</td>\n",
       "      <td>2.0</td>\n",
       "      <td>1</td>\n",
       "      <td>1.0</td>\n",
       "    </tr>\n",
       "    <tr>\n",
       "      <th>1</th>\n",
       "      <td>11</td>\n",
       "      <td>14</td>\n",
       "      <td>1</td>\n",
       "      <td>1</td>\n",
       "      <td>13.0</td>\n",
       "      <td>2.0</td>\n",
       "      <td>0</td>\n",
       "      <td>15.0</td>\n",
       "      <td>1.0</td>\n",
       "      <td>1</td>\n",
       "      <td>1.0</td>\n",
       "    </tr>\n",
       "    <tr>\n",
       "      <th>2</th>\n",
       "      <td>13</td>\n",
       "      <td>17</td>\n",
       "      <td>1</td>\n",
       "      <td>1</td>\n",
       "      <td>4.0</td>\n",
       "      <td>1.0</td>\n",
       "      <td>1</td>\n",
       "      <td>9.0</td>\n",
       "      <td>2.0</td>\n",
       "      <td>1</td>\n",
       "      <td>1.0</td>\n",
       "    </tr>\n",
       "    <tr>\n",
       "      <th>3</th>\n",
       "      <td>14</td>\n",
       "      <td>19</td>\n",
       "      <td>1</td>\n",
       "      <td>1</td>\n",
       "      <td>2.0</td>\n",
       "      <td>3.0</td>\n",
       "      <td>0</td>\n",
       "      <td>15.0</td>\n",
       "      <td>1.0</td>\n",
       "      <td>0</td>\n",
       "      <td>1.0</td>\n",
       "    </tr>\n",
       "    <tr>\n",
       "      <th>4</th>\n",
       "      <td>17</td>\n",
       "      <td>20</td>\n",
       "      <td>1</td>\n",
       "      <td>2</td>\n",
       "      <td>2.0</td>\n",
       "      <td>3.0</td>\n",
       "      <td>0</td>\n",
       "      <td>15.0</td>\n",
       "      <td>1.0</td>\n",
       "      <td>0</td>\n",
       "      <td>1.0</td>\n",
       "    </tr>\n",
       "  </tbody>\n",
       "</table>\n",
       "</div>"
      ],
      "text/plain": [
       "   Unnamed: 0  time  event_type  side  shot_place  shot_outcome  is_goal  \\\n",
       "0           0     2           1     2         6.0           2.0        0   \n",
       "1          11    14           1     1        13.0           2.0        0   \n",
       "2          13    17           1     1         4.0           1.0        1   \n",
       "3          14    19           1     1         2.0           3.0        0   \n",
       "4          17    20           1     2         2.0           3.0        0   \n",
       "\n",
       "   location  bodypart  assist_method  situation  \n",
       "0       9.0       2.0              1        1.0  \n",
       "1      15.0       1.0              1        1.0  \n",
       "2       9.0       2.0              1        1.0  \n",
       "3      15.0       1.0              0        1.0  \n",
       "4      15.0       1.0              0        1.0  "
      ]
     },
     "execution_count": 3,
     "metadata": {},
     "output_type": "execute_result"
    }
   ],
   "source": [
    "\n",
    "#Leemos el archivo que se utilizará para estos modelos.\n",
    "\n",
    "ocasiones_num = pd.read_csv(\"events_num_clean.csv\")\n",
    "\n",
    "ocasiones_num.head()\n"
   ]
  },
  {
   "cell_type": "code",
   "execution_count": 4,
   "id": "aea1599a",
   "metadata": {},
   "outputs": [
    {
     "data": {
      "text/html": [
       "<div>\n",
       "<style scoped>\n",
       "    .dataframe tbody tr th:only-of-type {\n",
       "        vertical-align: middle;\n",
       "    }\n",
       "\n",
       "    .dataframe tbody tr th {\n",
       "        vertical-align: top;\n",
       "    }\n",
       "\n",
       "    .dataframe thead th {\n",
       "        text-align: right;\n",
       "    }\n",
       "</style>\n",
       "<table border=\"1\" class=\"dataframe\">\n",
       "  <thead>\n",
       "    <tr style=\"text-align: right;\">\n",
       "      <th></th>\n",
       "      <th>time</th>\n",
       "      <th>side</th>\n",
       "      <th>shot_place</th>\n",
       "      <th>shot_outcome</th>\n",
       "      <th>is_goal</th>\n",
       "      <th>location</th>\n",
       "      <th>bodypart</th>\n",
       "      <th>assist_method</th>\n",
       "      <th>situation</th>\n",
       "    </tr>\n",
       "  </thead>\n",
       "  <tbody>\n",
       "    <tr>\n",
       "      <th>0</th>\n",
       "      <td>2</td>\n",
       "      <td>2</td>\n",
       "      <td>6.0</td>\n",
       "      <td>2.0</td>\n",
       "      <td>0</td>\n",
       "      <td>9.0</td>\n",
       "      <td>2.0</td>\n",
       "      <td>1</td>\n",
       "      <td>1.0</td>\n",
       "    </tr>\n",
       "    <tr>\n",
       "      <th>1</th>\n",
       "      <td>14</td>\n",
       "      <td>1</td>\n",
       "      <td>13.0</td>\n",
       "      <td>2.0</td>\n",
       "      <td>0</td>\n",
       "      <td>15.0</td>\n",
       "      <td>1.0</td>\n",
       "      <td>1</td>\n",
       "      <td>1.0</td>\n",
       "    </tr>\n",
       "    <tr>\n",
       "      <th>2</th>\n",
       "      <td>17</td>\n",
       "      <td>1</td>\n",
       "      <td>4.0</td>\n",
       "      <td>1.0</td>\n",
       "      <td>1</td>\n",
       "      <td>9.0</td>\n",
       "      <td>2.0</td>\n",
       "      <td>1</td>\n",
       "      <td>1.0</td>\n",
       "    </tr>\n",
       "    <tr>\n",
       "      <th>3</th>\n",
       "      <td>19</td>\n",
       "      <td>1</td>\n",
       "      <td>2.0</td>\n",
       "      <td>3.0</td>\n",
       "      <td>0</td>\n",
       "      <td>15.0</td>\n",
       "      <td>1.0</td>\n",
       "      <td>0</td>\n",
       "      <td>1.0</td>\n",
       "    </tr>\n",
       "    <tr>\n",
       "      <th>4</th>\n",
       "      <td>20</td>\n",
       "      <td>2</td>\n",
       "      <td>2.0</td>\n",
       "      <td>3.0</td>\n",
       "      <td>0</td>\n",
       "      <td>15.0</td>\n",
       "      <td>1.0</td>\n",
       "      <td>0</td>\n",
       "      <td>1.0</td>\n",
       "    </tr>\n",
       "  </tbody>\n",
       "</table>\n",
       "</div>"
      ],
      "text/plain": [
       "   time  side  shot_place  shot_outcome  is_goal  location  bodypart  \\\n",
       "0     2     2         6.0           2.0        0       9.0       2.0   \n",
       "1    14     1        13.0           2.0        0      15.0       1.0   \n",
       "2    17     1         4.0           1.0        1       9.0       2.0   \n",
       "3    19     1         2.0           3.0        0      15.0       1.0   \n",
       "4    20     2         2.0           3.0        0      15.0       1.0   \n",
       "\n",
       "   assist_method  situation  \n",
       "0              1        1.0  \n",
       "1              1        1.0  \n",
       "2              1        1.0  \n",
       "3              0        1.0  \n",
       "4              0        1.0  "
      ]
     },
     "execution_count": 4,
     "metadata": {},
     "output_type": "execute_result"
    }
   ],
   "source": [
    "\n",
    "#Eliminamos las columnas innecesarias.\n",
    "\n",
    "ocasiones_num.drop(columns=\"Unnamed: 0\", inplace = True)\n",
    "ocasiones_num.drop(columns=\"event_type\", inplace = True)\n",
    "ocasiones_num.head()\n"
   ]
  },
  {
   "cell_type": "code",
   "execution_count": 5,
   "id": "883ef9e5",
   "metadata": {},
   "outputs": [
    {
     "data": {
      "text/html": [
       "<div>\n",
       "<style scoped>\n",
       "    .dataframe tbody tr th:only-of-type {\n",
       "        vertical-align: middle;\n",
       "    }\n",
       "\n",
       "    .dataframe tbody tr th {\n",
       "        vertical-align: top;\n",
       "    }\n",
       "\n",
       "    .dataframe thead th {\n",
       "        text-align: right;\n",
       "    }\n",
       "</style>\n",
       "<table border=\"1\" class=\"dataframe\">\n",
       "  <thead>\n",
       "    <tr style=\"text-align: right;\">\n",
       "      <th></th>\n",
       "      <th>time</th>\n",
       "      <th>side</th>\n",
       "      <th>shot_place</th>\n",
       "      <th>shot_outcome</th>\n",
       "      <th>location</th>\n",
       "      <th>bodypart</th>\n",
       "      <th>assist_method</th>\n",
       "      <th>situation</th>\n",
       "    </tr>\n",
       "  </thead>\n",
       "  <tbody>\n",
       "    <tr>\n",
       "      <th>0</th>\n",
       "      <td>0.02</td>\n",
       "      <td>1.0</td>\n",
       "      <td>0.416667</td>\n",
       "      <td>0.333333</td>\n",
       "      <td>0.375</td>\n",
       "      <td>0.5</td>\n",
       "      <td>0.25</td>\n",
       "      <td>0.0</td>\n",
       "    </tr>\n",
       "    <tr>\n",
       "      <th>1</th>\n",
       "      <td>0.14</td>\n",
       "      <td>0.0</td>\n",
       "      <td>1.000000</td>\n",
       "      <td>0.333333</td>\n",
       "      <td>0.750</td>\n",
       "      <td>0.0</td>\n",
       "      <td>0.25</td>\n",
       "      <td>0.0</td>\n",
       "    </tr>\n",
       "    <tr>\n",
       "      <th>2</th>\n",
       "      <td>0.17</td>\n",
       "      <td>0.0</td>\n",
       "      <td>0.250000</td>\n",
       "      <td>0.000000</td>\n",
       "      <td>0.375</td>\n",
       "      <td>0.5</td>\n",
       "      <td>0.25</td>\n",
       "      <td>0.0</td>\n",
       "    </tr>\n",
       "    <tr>\n",
       "      <th>3</th>\n",
       "      <td>0.19</td>\n",
       "      <td>0.0</td>\n",
       "      <td>0.083333</td>\n",
       "      <td>0.666667</td>\n",
       "      <td>0.750</td>\n",
       "      <td>0.0</td>\n",
       "      <td>0.00</td>\n",
       "      <td>0.0</td>\n",
       "    </tr>\n",
       "    <tr>\n",
       "      <th>4</th>\n",
       "      <td>0.20</td>\n",
       "      <td>1.0</td>\n",
       "      <td>0.083333</td>\n",
       "      <td>0.666667</td>\n",
       "      <td>0.750</td>\n",
       "      <td>0.0</td>\n",
       "      <td>0.00</td>\n",
       "      <td>0.0</td>\n",
       "    </tr>\n",
       "  </tbody>\n",
       "</table>\n",
       "</div>"
      ],
      "text/plain": [
       "   time  side  shot_place  shot_outcome  location  bodypart  assist_method  \\\n",
       "0  0.02   1.0    0.416667      0.333333     0.375       0.5           0.25   \n",
       "1  0.14   0.0    1.000000      0.333333     0.750       0.0           0.25   \n",
       "2  0.17   0.0    0.250000      0.000000     0.375       0.5           0.25   \n",
       "3  0.19   0.0    0.083333      0.666667     0.750       0.0           0.00   \n",
       "4  0.20   1.0    0.083333      0.666667     0.750       0.0           0.00   \n",
       "\n",
       "   situation  \n",
       "0        0.0  \n",
       "1        0.0  \n",
       "2        0.0  \n",
       "3        0.0  \n",
       "4        0.0  "
      ]
     },
     "execution_count": 5,
     "metadata": {},
     "output_type": "execute_result"
    }
   ],
   "source": [
    "\n",
    "#Aplicamos una normalización para no tener rangos numéricos tan altos.\n",
    "\n",
    "X_norm = ocasiones_num.drop(columns=[\"is_goal\"]).copy(deep=True)\n",
    "scaler = preprocessing.MinMaxScaler()\n",
    "names = X_norm.columns\n",
    "d = scaler.fit_transform(X_norm)\n",
    "scaled_X = pd.DataFrame(d, columns=names)\n",
    "scaled_X.head()\n"
   ]
  },
  {
   "cell_type": "code",
   "execution_count": 6,
   "id": "78bc8e79",
   "metadata": {},
   "outputs": [],
   "source": [
    "\n",
    "#Se definen las variabes para nuestro X y nuestro objetivo\n",
    "\n",
    "X = scaled_X\n",
    "y = ocasiones_num[\"is_goal\"].copy(deep=True)\n"
   ]
  },
  {
   "cell_type": "markdown",
   "id": "ac3410fb",
   "metadata": {},
   "source": [
    "### Evaluación de los modelos sin optimizar."
   ]
  },
  {
   "cell_type": "code",
   "execution_count": 16,
   "id": "627b617c",
   "metadata": {},
   "outputs": [],
   "source": [
    "\n",
    "# get the models to evaluate\n",
    "models = get_models()\n"
   ]
  },
  {
   "cell_type": "code",
   "execution_count": 8,
   "id": "04b5648a",
   "metadata": {},
   "outputs": [
    {
     "name": "stdout",
     "output_type": "stream",
     "text": [
      ">lrc 0.2971 (155600)\n",
      ">knn 0.5617 (126600)\n",
      ">rfc 0.5715 (117300)\n",
      ">bayes 1.0000 (107400)\n",
      ">xgbc 0.6025 (147000)\n"
     ]
    }
   ],
   "source": [
    "\n",
    "# evaluate the models and store results\n",
    "results, names = list(), list()\n",
    "for name, model in models.items():\n",
    "    scores = evaluate_model(model, X, y)\n",
    "    results.append(scores)\n",
    "    names.append(name)\n",
    "    start_time = time.perf_counter_ns()\n",
    "    print('>%s %.4f (%.0f)' % (name, gmean(scores), (time.perf_counter_ns() - start_time)))\n",
    "    \n"
   ]
  },
  {
   "cell_type": "code",
   "execution_count": 9,
   "id": "914cdfcd",
   "metadata": {},
   "outputs": [
    {
     "data": {
      "text/plain": [
       "<Figure size 720x720 with 0 Axes>"
      ]
     },
     "metadata": {},
     "output_type": "display_data"
    },
    {
     "data": {
      "image/png": "[encoded data removed]",
      "text/plain": [
       "<Figure size 720x720 with 1 Axes>"
      ]
     },
     "metadata": {
      "needs_background": "light"
     },
     "output_type": "display_data"
    }
   ],
   "source": [
    "    \n",
    "# plot model performance for comparison\n",
    "\n",
    "plt.figure(figsize=(10,10))\n",
    "\n",
    "fig, ax1 = plt.subplots(figsize=(10, 10))\n",
    "\n",
    "bp = ax1.boxplot(results, labels=names, showmeans=True, notch=False, sym='+', vert=True, whis=1.5)\n",
    "plt.setp(bp['boxes'], color='black')\n",
    "plt.setp(bp['whiskers'], color='black')\n",
    "plt.setp(bp['fliers'], color='red', marker='+')\n",
    "plt.show()\n"
   ]
  },
  {
   "cell_type": "markdown",
   "id": "df7584c7",
   "metadata": {},
   "source": [
    "#### En esta primera evaluación, obtenemos resultados similares en KNN, Random Forest y XGBoost. <br> En cambio, Logistic Regession es el del desemepeño más bajo y el Gaussian Naive Bayes pareciera desempeñarse de manera perfecta, pero en evaluaciones anteriores se observó que cuando su Recall es igual a 1.0, tiene una Precision muy baja por la alta cantidad de falsos positivos en su predicción."
   ]
  },
  {
   "cell_type": "markdown",
   "id": "2526ff87",
   "metadata": {},
   "source": [
    "### Evaluación de los modelos optimizados."
   ]
  },
  {
   "cell_type": "code",
   "execution_count": 17,
   "id": "e0a8fb31",
   "metadata": {},
   "outputs": [],
   "source": [
    "\n",
    "# get the models to evaluate\n",
    "models = get_models_opt()\n"
   ]
  },
  {
   "cell_type": "code",
   "execution_count": 14,
   "id": "a12ab076",
   "metadata": {},
   "outputs": [
    {
     "name": "stdout",
     "output_type": "stream",
     "text": [
      ">lrc 0.2971 (263200)\n",
      ">knn 0.5761 (106400)\n",
      ">rfc 0.5712 (158900)\n",
      ">bayes 0.5367 (106200)\n",
      ">xgbc 0.6152 (116000)\n"
     ]
    }
   ],
   "source": [
    "\n",
    "# evaluate the models and store results\n",
    "results, names = list(), list()\n",
    "for name, model in models.items():\n",
    "    scores = evaluate_model(model, X, y)\n",
    "    results.append(scores)\n",
    "    names.append(name)\n",
    "    start_time = time.perf_counter_ns()\n",
    "    print('>%s %.4f (%.0f)' % (name, gmean(scores), (time.perf_counter_ns() - start_time)))\n",
    "    "
   ]
  },
  {
   "cell_type": "code",
   "execution_count": 15,
   "id": "a27cdb9c",
   "metadata": {},
   "outputs": [
    {
     "data": {
      "text/plain": [
       "<Figure size 720x720 with 0 Axes>"
      ]
     },
     "metadata": {},
     "output_type": "display_data"
    },
    {
     "data": {
      "image/png": "[encoded data removed]",
      "text/plain": [
       "<Figure size 720x720 with 1 Axes>"
      ]
     },
     "metadata": {
      "needs_background": "light"
     },
     "output_type": "display_data"
    }
   ],
   "source": [
    "\n",
    "# plot model performance for comparison\n",
    "\n",
    "plt.figure(figsize=(10,10))\n",
    "\n",
    "fig, ax1 = plt.subplots(figsize=(10, 10))\n",
    "\n",
    "bp = ax1.boxplot(results, labels=names, showmeans=True, notch=False, sym='+', vert=True, whis=1.5)\n",
    "plt.setp(bp['boxes'], color='black')\n",
    "plt.setp(bp['whiskers'], color='black')\n",
    "plt.setp(bp['fliers'], color='red', marker='+')\n",
    "plt.show()\n"
   ]
  },
  {
   "cell_type": "markdown",
   "id": "e16280ca",
   "metadata": {},
   "source": [
    "#### Despúes de las optimizaciones prácticamente todos los modelos mejoraron, (a excepción del Gaussian NB, ya que este empeoró su métrica de Recall, pero mejoró en cuanto al Precision). <br> El modelo más destacado fue el XGBoost. que mejora en más de un 30% el desempeño de nuestro modelo base (Logistic Regression) y además tiene menor tiempo de ejecución que este modelo."
   ]
  },
  {
   "cell_type": "code",
   "execution_count": null,
   "id": "5cb98902",
   "metadata": {},
   "outputs": [],
   "source": []
  }
 ],
 "metadata": {
  "kernelspec": {
   "display_name": "Python 3 (ipykernel)",
   "language": "python",
   "name": "python3"
  },
  "language_info": {
   "codemirror_mode": {
    "name": "ipython",
    "version": 3
   },
   "file_extension": ".py",
   "mimetype": "text/x-python",
   "name": "python",
   "nbconvert_exporter": "python",
   "pygments_lexer": "ipython3",
   "version": "3.9.12"
  }
 },
 "nbformat": 4,
 "nbformat_minor": 5
}
