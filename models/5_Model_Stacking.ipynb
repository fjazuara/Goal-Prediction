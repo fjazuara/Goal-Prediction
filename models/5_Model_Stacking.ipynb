{
 "cells": [
  {
   "cell_type": "markdown",
   "id": "f364338e",
   "metadata": {},
   "source": [
    "# Model Stacking"
   ]
  },
  {
   "cell_type": "markdown",
   "id": "aad7248a",
   "metadata": {},
   "source": [
    "#### En esta notebook se realizará la evaluación de un model stacking con los modelos ya optimizados."
   ]
  },
  {
   "cell_type": "code",
   "execution_count": 1,
   "id": "bed03cf8",
   "metadata": {},
   "outputs": [],
   "source": [
    "\n",
    "from utils import *\n"
   ]
  },
  {
   "cell_type": "code",
   "execution_count": 2,
   "id": "311a13ad",
   "metadata": {},
   "outputs": [
    {
     "data": {
      "text/html": [
       "<div>\n",
       "<style scoped>\n",
       "    .dataframe tbody tr th:only-of-type {\n",
       "        vertical-align: middle;\n",
       "    }\n",
       "\n",
       "    .dataframe tbody tr th {\n",
       "        vertical-align: top;\n",
       "    }\n",
       "\n",
       "    .dataframe thead th {\n",
       "        text-align: right;\n",
       "    }\n",
       "</style>\n",
       "<table border=\"1\" class=\"dataframe\">\n",
       "  <thead>\n",
       "    <tr style=\"text-align: right;\">\n",
       "      <th></th>\n",
       "      <th>time</th>\n",
       "      <th>side</th>\n",
       "      <th>shot_place</th>\n",
       "      <th>shot_outcome</th>\n",
       "      <th>is_goal</th>\n",
       "      <th>location</th>\n",
       "      <th>bodypart</th>\n",
       "      <th>assist_method</th>\n",
       "      <th>situation</th>\n",
       "    </tr>\n",
       "  </thead>\n",
       "  <tbody>\n",
       "    <tr>\n",
       "      <th>0</th>\n",
       "      <td>2</td>\n",
       "      <td>2</td>\n",
       "      <td>6.0</td>\n",
       "      <td>2.0</td>\n",
       "      <td>0</td>\n",
       "      <td>9.0</td>\n",
       "      <td>2.0</td>\n",
       "      <td>1</td>\n",
       "      <td>1.0</td>\n",
       "    </tr>\n",
       "    <tr>\n",
       "      <th>1</th>\n",
       "      <td>14</td>\n",
       "      <td>1</td>\n",
       "      <td>13.0</td>\n",
       "      <td>2.0</td>\n",
       "      <td>0</td>\n",
       "      <td>15.0</td>\n",
       "      <td>1.0</td>\n",
       "      <td>1</td>\n",
       "      <td>1.0</td>\n",
       "    </tr>\n",
       "    <tr>\n",
       "      <th>2</th>\n",
       "      <td>17</td>\n",
       "      <td>1</td>\n",
       "      <td>4.0</td>\n",
       "      <td>1.0</td>\n",
       "      <td>1</td>\n",
       "      <td>9.0</td>\n",
       "      <td>2.0</td>\n",
       "      <td>1</td>\n",
       "      <td>1.0</td>\n",
       "    </tr>\n",
       "    <tr>\n",
       "      <th>3</th>\n",
       "      <td>19</td>\n",
       "      <td>1</td>\n",
       "      <td>2.0</td>\n",
       "      <td>3.0</td>\n",
       "      <td>0</td>\n",
       "      <td>15.0</td>\n",
       "      <td>1.0</td>\n",
       "      <td>0</td>\n",
       "      <td>1.0</td>\n",
       "    </tr>\n",
       "    <tr>\n",
       "      <th>4</th>\n",
       "      <td>20</td>\n",
       "      <td>2</td>\n",
       "      <td>2.0</td>\n",
       "      <td>3.0</td>\n",
       "      <td>0</td>\n",
       "      <td>15.0</td>\n",
       "      <td>1.0</td>\n",
       "      <td>0</td>\n",
       "      <td>1.0</td>\n",
       "    </tr>\n",
       "  </tbody>\n",
       "</table>\n",
       "</div>"
      ],
      "text/plain": [
       "   time  side  shot_place  shot_outcome  is_goal  location  bodypart  \\\n",
       "0     2     2         6.0           2.0        0       9.0       2.0   \n",
       "1    14     1        13.0           2.0        0      15.0       1.0   \n",
       "2    17     1         4.0           1.0        1       9.0       2.0   \n",
       "3    19     1         2.0           3.0        0      15.0       1.0   \n",
       "4    20     2         2.0           3.0        0      15.0       1.0   \n",
       "\n",
       "   assist_method  situation  \n",
       "0              1        1.0  \n",
       "1              1        1.0  \n",
       "2              1        1.0  \n",
       "3              0        1.0  \n",
       "4              0        1.0  "
      ]
     },
     "execution_count": 2,
     "metadata": {},
     "output_type": "execute_result"
    }
   ],
   "source": [
    "\n",
    "#Leemos el archivo que se utilizará para estos modelos.\n",
    "\n",
    "ocasiones_num = pd.read_csv(\"events_num_clean.csv\")\n",
    "\n",
    "\n",
    "#=============================================================\n",
    "\n",
    "#Eliminamos las columnas innecesarias.\n",
    "\n",
    "ocasiones_num.drop(columns=\"Unnamed: 0\", inplace = True)\n",
    "ocasiones_num.drop(columns=\"event_type\", inplace = True)\n",
    "ocasiones_num.head()"
   ]
  },
  {
   "cell_type": "code",
   "execution_count": 3,
   "id": "ac590e9a",
   "metadata": {},
   "outputs": [
    {
     "data": {
      "text/html": [
       "<div>\n",
       "<style scoped>\n",
       "    .dataframe tbody tr th:only-of-type {\n",
       "        vertical-align: middle;\n",
       "    }\n",
       "\n",
       "    .dataframe tbody tr th {\n",
       "        vertical-align: top;\n",
       "    }\n",
       "\n",
       "    .dataframe thead th {\n",
       "        text-align: right;\n",
       "    }\n",
       "</style>\n",
       "<table border=\"1\" class=\"dataframe\">\n",
       "  <thead>\n",
       "    <tr style=\"text-align: right;\">\n",
       "      <th></th>\n",
       "      <th>time</th>\n",
       "      <th>side</th>\n",
       "      <th>shot_place</th>\n",
       "      <th>shot_outcome</th>\n",
       "      <th>location</th>\n",
       "      <th>bodypart</th>\n",
       "      <th>assist_method</th>\n",
       "      <th>situation</th>\n",
       "    </tr>\n",
       "  </thead>\n",
       "  <tbody>\n",
       "    <tr>\n",
       "      <th>0</th>\n",
       "      <td>0.02</td>\n",
       "      <td>1.0</td>\n",
       "      <td>0.416667</td>\n",
       "      <td>0.333333</td>\n",
       "      <td>0.375</td>\n",
       "      <td>0.5</td>\n",
       "      <td>0.25</td>\n",
       "      <td>0.0</td>\n",
       "    </tr>\n",
       "    <tr>\n",
       "      <th>1</th>\n",
       "      <td>0.14</td>\n",
       "      <td>0.0</td>\n",
       "      <td>1.000000</td>\n",
       "      <td>0.333333</td>\n",
       "      <td>0.750</td>\n",
       "      <td>0.0</td>\n",
       "      <td>0.25</td>\n",
       "      <td>0.0</td>\n",
       "    </tr>\n",
       "    <tr>\n",
       "      <th>2</th>\n",
       "      <td>0.17</td>\n",
       "      <td>0.0</td>\n",
       "      <td>0.250000</td>\n",
       "      <td>0.000000</td>\n",
       "      <td>0.375</td>\n",
       "      <td>0.5</td>\n",
       "      <td>0.25</td>\n",
       "      <td>0.0</td>\n",
       "    </tr>\n",
       "    <tr>\n",
       "      <th>3</th>\n",
       "      <td>0.19</td>\n",
       "      <td>0.0</td>\n",
       "      <td>0.083333</td>\n",
       "      <td>0.666667</td>\n",
       "      <td>0.750</td>\n",
       "      <td>0.0</td>\n",
       "      <td>0.00</td>\n",
       "      <td>0.0</td>\n",
       "    </tr>\n",
       "    <tr>\n",
       "      <th>4</th>\n",
       "      <td>0.20</td>\n",
       "      <td>1.0</td>\n",
       "      <td>0.083333</td>\n",
       "      <td>0.666667</td>\n",
       "      <td>0.750</td>\n",
       "      <td>0.0</td>\n",
       "      <td>0.00</td>\n",
       "      <td>0.0</td>\n",
       "    </tr>\n",
       "  </tbody>\n",
       "</table>\n",
       "</div>"
      ],
      "text/plain": [
       "   time  side  shot_place  shot_outcome  location  bodypart  assist_method  \\\n",
       "0  0.02   1.0    0.416667      0.333333     0.375       0.5           0.25   \n",
       "1  0.14   0.0    1.000000      0.333333     0.750       0.0           0.25   \n",
       "2  0.17   0.0    0.250000      0.000000     0.375       0.5           0.25   \n",
       "3  0.19   0.0    0.083333      0.666667     0.750       0.0           0.00   \n",
       "4  0.20   1.0    0.083333      0.666667     0.750       0.0           0.00   \n",
       "\n",
       "   situation  \n",
       "0        0.0  \n",
       "1        0.0  \n",
       "2        0.0  \n",
       "3        0.0  \n",
       "4        0.0  "
      ]
     },
     "execution_count": 3,
     "metadata": {},
     "output_type": "execute_result"
    }
   ],
   "source": [
    "\n",
    "#Aplicamos una normalización para no tener rangos numéricos tan altos.\n",
    "\n",
    "X_norm = ocasiones_num.drop(columns=[\"is_goal\"]).copy(deep=True)\n",
    "scaler = preprocessing.MinMaxScaler()\n",
    "names = X_norm.columns\n",
    "d = scaler.fit_transform(X_norm)\n",
    "scaled_X = pd.DataFrame(d, columns=names)\n",
    "scaled_X.head()\n"
   ]
  },
  {
   "cell_type": "code",
   "execution_count": 4,
   "id": "84e5b6d4",
   "metadata": {},
   "outputs": [],
   "source": [
    "\n",
    "#Se definen las variabes para nuestro X y nuestro objetivo\n",
    "\n",
    "X = scaled_X\n",
    "y = ocasiones_num[\"is_goal\"].copy(deep=True)\n"
   ]
  },
  {
   "cell_type": "code",
   "execution_count": 5,
   "id": "d17cdb8b",
   "metadata": {},
   "outputs": [
    {
     "name": "stdout",
     "output_type": "stream",
     "text": [
      ">stacking 0.6292 (217100)\n"
     ]
    }
   ],
   "source": [
    "\n",
    "# get the models to evaluate\n",
    "models = get_stacked_model()\n",
    "\n",
    "# evaluate the models and store results\n",
    "results, names = list(), list()\n",
    "for name, model in models.items():\n",
    "    scores = evaluate_model(model, X, y)\n",
    "    results.append(scores)\n",
    "    names.append(name)\n",
    "    start_time = time.perf_counter_ns()\n",
    "    print('>%s %.4f (%.0f)' % (name, gmean(scores), (time.perf_counter_ns() - start_time)))\n",
    "    \n",
    "    "
   ]
  },
  {
   "cell_type": "code",
   "execution_count": 6,
   "id": "7b083d99",
   "metadata": {},
   "outputs": [
    {
     "data": {
      "text/plain": [
       "<Figure size 720x720 with 0 Axes>"
      ]
     },
     "metadata": {},
     "output_type": "display_data"
    },
    {
     "data": {
      "image/png": "[encoded data removed]",
      "text/plain": [
       "<Figure size 720x720 with 1 Axes>"
      ]
     },
     "metadata": {
      "needs_background": "light"
     },
     "output_type": "display_data"
    }
   ],
   "source": [
    "\n",
    "# plot model performance for comparison\n",
    "\n",
    "plt.figure(figsize=(10,10))\n",
    "\n",
    "fig, ax1 = plt.subplots(figsize=(10, 10))\n",
    "\n",
    "bp = ax1.boxplot(results, labels=names, showmeans=True, notch=False, sym='+', vert=True, whis=1.5)\n",
    "plt.setp(bp['boxes'], color='black')\n",
    "plt.setp(bp['whiskers'], color='black')\n",
    "plt.setp(bp['fliers'], color='red', marker='+')\n",
    "plt.show()\n"
   ]
  },
  {
   "cell_type": "markdown",
   "id": "8a8dc587",
   "metadata": {},
   "source": [
    "#### El model stacking ha sido el de mejor desempeño pero también el de mayor tiempo de ejecución. \n",
    "#### Como se puede observar en el gráfico, llegó a tener un desemepeño superior al 0.64 de Recall y un rendimiento medio de 0.6292"
   ]
  },
  {
   "cell_type": "code",
   "execution_count": 7,
   "id": "eea4159b",
   "metadata": {},
   "outputs": [],
   "source": [
    "# Save the model\n",
    "# ==============================================================================\n",
    "pkl_path = \"Stacked_model.pkl\"\n",
    "\n",
    "with open(pkl_path, \"wb\") as f:\n",
    "    # Pickle the 'Stacked' model.\n",
    "    pickle.dump(model, f)"
   ]
  },
  {
   "cell_type": "code",
   "execution_count": null,
   "id": "eb75f3e7",
   "metadata": {},
   "outputs": [],
   "source": []
  }
 ],
 "metadata": {
  "kernelspec": {
   "display_name": "Python 3 (ipykernel)",
   "language": "python",
   "name": "python3"
  },
  "language_info": {
   "codemirror_mode": {
    "name": "ipython",
    "version": 3
   },
   "file_extension": ".py",
   "mimetype": "text/x-python",
   "name": "python",
   "nbconvert_exporter": "python",
   "pygments_lexer": "ipython3",
   "version": "3.9.12"
  }
 },
 "nbformat": 4,
 "nbformat_minor": 5
}
